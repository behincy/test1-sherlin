{
 "cells": [
  {
   "cell_type": "code",
   "execution_count": 1,
   "metadata": {},
   "outputs": [],
   "source": [
    "import os"
   ]
  },
  {
   "cell_type": "code",
   "execution_count": 2,
   "metadata": {},
   "outputs": [
    {
     "data": {
      "text/plain": [
       "'C:\\\\Users\\\\Student'"
      ]
     },
     "execution_count": 2,
     "metadata": {},
     "output_type": "execute_result"
    }
   ],
   "source": [
    "os.getcwd()"
   ]
  },
  {
   "cell_type": "code",
   "execution_count": null,
   "metadata": {},
   "outputs": [],
   "source": [
    "C:/Users/Student\n",
    "    #replace the above path with forward slash"
   ]
  },
  {
   "cell_type": "code",
   "execution_count": 6,
   "metadata": {},
   "outputs": [],
   "source": [
    "import ipywidgets as w"
   ]
  },
  {
   "cell_type": "code",
   "execution_count": 8,
   "metadata": {},
   "outputs": [
    {
     "data": {
      "application/vnd.jupyter.widget-view+json": {
       "model_id": "ad21ccf1d82b47179a32d1674750cf94",
       "version_major": 2,
       "version_minor": 0
      },
      "text/plain": [
       "Button(description='button', style=ButtonStyle())"
      ]
     },
     "metadata": {},
     "output_type": "display_data"
    }
   ],
   "source": [
    "def greet():\n",
    "    print(\"hello\")\n",
    "b=w.Button(description='button')\n",
    "b.on_click(greet)\n",
    "display(b)"
   ]
  },
  {
   "cell_type": "code",
   "execution_count": 9,
   "metadata": {},
   "outputs": [
    {
     "data": {
      "application/vnd.jupyter.widget-view+json": {
       "model_id": "d0ef2c2c42c340acbca03a73819d548b",
       "version_major": 2,
       "version_minor": 0
      },
      "text/plain": [
       "VBox(children=(HTML(value='<H1>aplication form<H2>'), Text(value='', description='name:'), DatePicker(value=No…"
      ]
     },
     "metadata": {},
     "output_type": "display_data"
    }
   ],
   "source": [
    "a1=w.HTML(\"<H1>aplication form<H2>\")\n",
    "b1=w.Text(description=\"name:\")\n",
    "c1=w.DatePicker(descpription=\"DOB\")\n",
    "d1=w.RadioButtons(descrription=\"gender\",options=[\"male\",\"female\"])\n",
    "e1=w.Text(description=\"F.N:\",value=\"name\")\n",
    "f1=w.Text(description=\"school\")\n",
    "g1=w.Textarea(description=\"adress\")\n",
    "h1=w.Button(description=\"submit\")\n",
    "h4=w.Button(description=\"export\")\n",
    "h3=w.Textarea(description=\"value\")\n",
    "display(w.VBox([a1,b1,c1,d1,e1,f1,g1,h1,h4]))"
   ]
  },
  {
   "cell_type": "code",
   "execution_count": null,
   "metadata": {},
   "outputs": [],
   "source": []
  }
 ],
 "metadata": {
  "kernelspec": {
   "display_name": "Python 3",
   "language": "python",
   "name": "python3"
  },
  "language_info": {
   "codemirror_mode": {
    "name": "ipython",
    "version": 3
   },
   "file_extension": ".py",
   "mimetype": "text/x-python",
   "name": "python",
   "nbconvert_exporter": "python",
   "pygments_lexer": "ipython3",
   "version": "3.8.3"
  }
 },
 "nbformat": 4,
 "nbformat_minor": 4
}
