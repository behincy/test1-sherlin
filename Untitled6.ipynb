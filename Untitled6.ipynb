{
 "cells": [
  {
   "cell_type": "code",
   "execution_count": 1,
   "metadata": {},
   "outputs": [],
   "source": [
    "import ipywidgets as widgets"
   ]
  },
  {
   "cell_type": "code",
   "execution_count": 3,
   "metadata": {},
   "outputs": [
    {
     "data": {
      "application/vnd.jupyter.widget-view+json": {
       "model_id": "417b7274eddf4c138382b711e1772acf",
       "version_major": 2,
       "version_minor": 0
      },
      "text/plain": [
       "IntSlider(value=40, max=70, min=30)"
      ]
     },
     "metadata": {},
     "output_type": "display_data"
    }
   ],
   "source": [
    "w=widgets.IntSlider(40,30,70)\n",
    "display(w)\n",
    "#value=40,max=70,min=30"
   ]
  },
  {
   "cell_type": "code",
   "execution_count": 4,
   "metadata": {},
   "outputs": [
    {
     "data": {
      "text/plain": [
       "40"
      ]
     },
     "execution_count": 4,
     "metadata": {},
     "output_type": "execute_result"
    }
   ],
   "source": [
    "w.value"
   ]
  },
  {
   "cell_type": "code",
   "execution_count": 5,
   "metadata": {},
   "outputs": [
    {
     "ename": "SyntaxError",
     "evalue": "invalid syntax (<ipython-input-5-662a70c454c5>, line 1)",
     "output_type": "error",
     "traceback": [
      "\u001b[1;36m  File \u001b[1;32m\"<ipython-input-5-662a70c454c5>\"\u001b[1;36m, line \u001b[1;32m1\u001b[0m\n\u001b[1;33m    j=widgets.FloatSlider(value=7.5,min=5.0,max=10,step=0.1description='test:')\u001b[0m\n\u001b[1;37m                                                           ^\u001b[0m\n\u001b[1;31mSyntaxError\u001b[0m\u001b[1;31m:\u001b[0m invalid syntax\n"
     ]
    }
   ],
   "source": []
  },
  {
   "cell_type": "code",
   "execution_count": 7,
   "metadata": {},
   "outputs": [
    {
     "data": {
      "application/vnd.jupyter.widget-view+json": {
       "model_id": "cccb06b4a4e046dca042943cf00ae1ec",
       "version_major": 2,
       "version_minor": 0
      },
      "text/plain": [
       "FloatSlider(value=9.0, description='test:', max=33.0, min=3.0, step=3.0)"
      ]
     },
     "metadata": {},
     "output_type": "display_data"
    },
    {
     "data": {
      "text/plain": [
       "9.0"
      ]
     },
     "execution_count": 7,
     "metadata": {},
     "output_type": "execute_result"
    }
   ],
   "source": [
    "j=widgets.FloatSlider(value=9,min=3,max=33,step=3,description='test:')\n",
    "display(j)\n",
    "j.value"
   ]
  },
  {
   "cell_type": "code",
   "execution_count": 8,
   "metadata": {
    "scrolled": false
   },
   "outputs": [
    {
     "data": {
      "application/vnd.jupyter.widget-view+json": {
       "model_id": "51c1dabbe62a4487a911fbc052c8a794",
       "version_major": 2,
       "version_minor": 0
      },
      "text/plain": [
       "FloatSlider(value=9.0, description='test:', max=33.0, min=3.0, orientation='vertical', step=3.0)"
      ]
     },
     "metadata": {},
     "output_type": "display_data"
    },
    {
     "data": {
      "text/plain": [
       "9.0"
      ]
     },
     "execution_count": 8,
     "metadata": {},
     "output_type": "execute_result"
    }
   ],
   "source": [
    "j=widgets.FloatSlider(value=9,min=3,max=33,step=3,description='test:',orientation='vertical')\n",
    "display(j)\n",
    "j.value"
   ]
  },
  {
   "cell_type": "code",
   "execution_count": null,
   "metadata": {},
   "outputs": [],
   "source": [
    "widgets>FloatProgress"
   ]
  },
  {
   "cell_type": "code",
   "execution_count": 9,
   "metadata": {},
   "outputs": [
    {
     "data": {
      "application/vnd.jupyter.widget-view+json": {
       "model_id": "dbdf88b6ea7c4e8aad3047eaeecc854d",
       "version_major": 2,
       "version_minor": 0
      },
      "text/plain": [
       "FloatProgress(value=9.0, description='test:', max=33.0, min=3.0)"
      ]
     },
     "metadata": {},
     "output_type": "display_data"
    }
   ],
   "source": [
    "widgets.FloatProgress(value=9,min=3,max=33,step=3,description='test:')"
   ]
  },
  {
   "cell_type": "code",
   "execution_count": 11,
   "metadata": {},
   "outputs": [
    {
     "data": {
      "application/vnd.jupyter.widget-view+json": {
       "model_id": "94131f76b3da4aec9dc7513a6777b488",
       "version_major": 2,
       "version_minor": 0
      },
      "text/plain": [
       "interactive(children=(FloatSlider(value=0.0, description='x'), IntSlider(value=0, description='y'), Output()),…"
      ]
     },
     "metadata": {},
     "output_type": "display_data"
    },
    {
     "data": {
      "text/plain": [
       "<function __main__.f(x, y)>"
      ]
     },
     "execution_count": 11,
     "metadata": {},
     "output_type": "execute_result"
    }
   ],
   "source": [
    "def f(x,y):\n",
    "    print(x+y)\n",
    "widgets.interact(f,x=widgets.FloatSlider(),y=widgets.IntSlider())\n",
    "#widgets assigned to arguments infunction"
   ]
  },
  {
   "cell_type": "code",
   "execution_count": 13,
   "metadata": {},
   "outputs": [
    {
     "data": {
      "application/vnd.jupyter.widget-view+json": {
       "model_id": "c48e4bc45a6543998cb238f5d381d12f",
       "version_major": 2,
       "version_minor": 0
      },
      "text/plain": [
       "interactive(children=(IntSlider(value=0, description='x'), IntSlider(value=0, description='y'), IntSlider(valu…"
      ]
     },
     "metadata": {},
     "output_type": "display_data"
    },
    {
     "data": {
      "text/plain": [
       "<function __main__.f(x, y, z)>"
      ]
     },
     "execution_count": 13,
     "metadata": {},
     "output_type": "execute_result"
    }
   ],
   "source": [
    "def f(x,y,z):\n",
    "    print(x**2+y**2+z**2)\n",
    "widgets.interact(f,x=widgets.widgets.IntSlider(),y=widgets.IntSlider(),z=widgets.IntSlider())\n",
    "#to write x^2 we use **\n"
   ]
  },
  {
   "cell_type": "code",
   "execution_count": 18,
   "metadata": {},
   "outputs": [],
   "source": [
    "def f(x,y):\n",
    "    print(x+y)\n",
    "y=widgets.FloatSlider()\n",
    "x=widgets.IntSlider()\n",
    "h=widgets.Button(description=\"submit\")"
   ]
  },
  {
   "cell_type": "code",
   "execution_count": 19,
   "metadata": {},
   "outputs": [
    {
     "data": {
      "application/vnd.jupyter.widget-view+json": {
       "model_id": "8aca8a30926047bcb76b24853ba8004c",
       "version_major": 2,
       "version_minor": 0
      },
      "text/plain": [
       "IntSlider(value=0)"
      ]
     },
     "metadata": {},
     "output_type": "display_data"
    },
    {
     "data": {
      "application/vnd.jupyter.widget-view+json": {
       "model_id": "a3612ab79fbe4f1fa2589269aea591a1",
       "version_major": 2,
       "version_minor": 0
      },
      "text/plain": [
       "FloatSlider(value=0.0)"
      ]
     },
     "metadata": {},
     "output_type": "display_data"
    },
    {
     "data": {
      "application/vnd.jupyter.widget-view+json": {
       "model_id": "e84537d582c1419dbfca36ebf54c9d86",
       "version_major": 2,
       "version_minor": 0
      },
      "text/plain": [
       "Button(description='submit', style=ButtonStyle())"
      ]
     },
     "metadata": {},
     "output_type": "display_data"
    },
    {
     "data": {
      "application/vnd.jupyter.widget-view+json": {
       "model_id": "194cfc0b860640b0a2144faf25dccb7b",
       "version_major": 2,
       "version_minor": 0
      },
      "text/plain": [
       "interactive(children=(IntSlider(value=0, description='x'), FloatSlider(value=0.0, description='y'), Output()),…"
      ]
     },
     "metadata": {},
     "output_type": "display_data"
    },
    {
     "data": {
      "application/vnd.jupyter.widget-view+json": {
       "model_id": "53718e4d5256422287a2a4c7d4082dbf",
       "version_major": 2,
       "version_minor": 0
      },
      "text/plain": [
       "interactive(children=(IntSlider(value=0, description='x'), FloatSlider(value=0.0, description='y'), Output()),…"
      ]
     },
     "metadata": {},
     "output_type": "display_data"
    }
   ],
   "source": [
    "def inet(self):\n",
    "    widgets.interact(f,x=x,y=y)\n",
    "h.on_click(inet)\n",
    "display(x)\n",
    "display(y)\n",
    "display(h)"
   ]
  },
  {
   "cell_type": "code",
   "execution_count": 22,
   "metadata": {},
   "outputs": [
    {
     "data": {
      "application/vnd.jupyter.widget-view+json": {
       "model_id": "8ca12a2c9ef04e94b8e971e7e2f3fc9c",
       "version_major": 2,
       "version_minor": 0
      },
      "text/plain": [
       "Button(description='greet', style=ButtonStyle())"
      ]
     },
     "metadata": {},
     "output_type": "display_data"
    },
    {
     "name": "stdout",
     "output_type": "stream",
     "text": [
      "hello\n"
     ]
    }
   ],
   "source": [
    "#creating submit button\n",
    "def greet():\n",
    "    print(\"hello\")\n",
    "h=widgets.Button(description='greet')\n",
    "display(h)\n",
    "h.on_click(greet())"
   ]
  },
  {
   "cell_type": "code",
   "execution_count": 28,
   "metadata": {},
   "outputs": [
    {
     "data": {
      "application/vnd.jupyter.widget-view+json": {
       "model_id": "eaf8105588224eba88d8ce7068c069e5",
       "version_major": 2,
       "version_minor": 0
      },
      "text/plain": [
       "FloatSlider(value=0.1)"
      ]
     },
     "metadata": {},
     "output_type": "display_data"
    },
    {
     "data": {
      "application/vnd.jupyter.widget-view+json": {
       "model_id": "2024677b714a47e48f77c807e1cd84d0",
       "version_major": 2,
       "version_minor": 0
      },
      "text/plain": [
       "FloatSlider(value=0.2)"
      ]
     },
     "metadata": {},
     "output_type": "display_data"
    },
    {
     "data": {
      "application/vnd.jupyter.widget-view+json": {
       "model_id": "d8ad1c037c264acf88e3bc0166f748f3",
       "version_major": 2,
       "version_minor": 0
      },
      "text/plain": [
       "FloatSlider(value=0.3)"
      ]
     },
     "metadata": {},
     "output_type": "display_data"
    },
    {
     "data": {
      "application/vnd.jupyter.widget-view+json": {
       "model_id": "e18e785537c642d89631688b40057b5e",
       "version_major": 2,
       "version_minor": 0
      },
      "text/plain": [
       "Button(description='submit', style=ButtonStyle())"
      ]
     },
     "metadata": {},
     "output_type": "display_data"
    },
    {
     "ename": "TypeError",
     "evalue": "eq1() missing 2 required positional arguments: 'y' and 'z'",
     "output_type": "error",
     "traceback": [
      "\u001b[1;31m---------------------------------------------------------------------------\u001b[0m",
      "\u001b[1;31mTypeError\u001b[0m                                 Traceback (most recent call last)",
      "\u001b[1;31mTypeError\u001b[0m: eq1() missing 2 required positional arguments: 'y' and 'z'"
     ]
    }
   ],
   "source": [
    "x=widgets.FloatSlider(0.1)\n",
    "y=widgets.FloatSlider(0.2)\n",
    "z=widgets.FloatSlider(0.3)\n",
    "k=widgets.Button(description='submit')\n",
    "def eq1(x,y,z):\n",
    "    print(2*y.value+(8/x.value)+z.value**2)\n",
    "display(x)\n",
    "display(y)\n",
    "display(z)\n",
    "display(k)\n",
    "k.on_click(eq1)"
   ]
  },
  {
   "cell_type": "code",
   "execution_count": 29,
   "metadata": {},
   "outputs": [
    {
     "data": {
      "application/vnd.jupyter.widget-view+json": {
       "model_id": "90e691dcd19d40d294391d3610edfc1e",
       "version_major": 2,
       "version_minor": 0
      },
      "text/plain": [
       "VBox(children=(FloatSlider(value=0.1), FloatSlider(value=0.2), FloatSlider(value=0.3), Button(description='sub…"
      ]
     },
     "metadata": {},
     "output_type": "display_data"
    },
    {
     "ename": "TypeError",
     "evalue": "eq1() missing 2 required positional arguments: 'y' and 'z'",
     "output_type": "error",
     "traceback": [
      "\u001b[1;31m---------------------------------------------------------------------------\u001b[0m",
      "\u001b[1;31mTypeError\u001b[0m                                 Traceback (most recent call last)",
      "\u001b[1;31mTypeError\u001b[0m: eq1() missing 2 required positional arguments: 'y' and 'z'"
     ]
    }
   ],
   "source": [
    "x=widgets.FloatSlider(0.1)\n",
    "y=widgets.FloatSlider(0.2)\n",
    "z=widgets.FloatSlider(0.3)\n",
    "k=widgets.Button(description='submit')\n",
    "def eq1(x,y,z):\n",
    "    print(2*y.value+(8/x.value)+z.value**2)\n",
    "f=widgets.VBox([x,y,z,k])\n",
    "display(f)\n",
    "#display(x)\n",
    "#display(y)\n",
    "#display(z)\n",
    "#display(k)\n",
    "k.on_click(eq1)"
   ]
  },
  {
   "cell_type": "code",
   "execution_count": 30,
   "metadata": {},
   "outputs": [
    {
     "data": {
      "application/vnd.jupyter.widget-view+json": {
       "model_id": "c18b6e6fc87344aaa2a31f16f314a024",
       "version_major": 2,
       "version_minor": 0
      },
      "text/plain": [
       "HBox(children=(FloatSlider(value=0.1), FloatSlider(value=0.2), FloatSlider(value=0.3), Button(description='sub…"
      ]
     },
     "metadata": {},
     "output_type": "display_data"
    },
    {
     "ename": "TypeError",
     "evalue": "eq1() missing 2 required positional arguments: 'y' and 'z'",
     "output_type": "error",
     "traceback": [
      "\u001b[1;31m---------------------------------------------------------------------------\u001b[0m",
      "\u001b[1;31mTypeError\u001b[0m                                 Traceback (most recent call last)",
      "\u001b[1;31mTypeError\u001b[0m: eq1() missing 2 required positional arguments: 'y' and 'z'"
     ]
    },
    {
     "ename": "TypeError",
     "evalue": "eq1() missing 2 required positional arguments: 'y' and 'z'",
     "output_type": "error",
     "traceback": [
      "\u001b[1;31m---------------------------------------------------------------------------\u001b[0m",
      "\u001b[1;31mTypeError\u001b[0m                                 Traceback (most recent call last)",
      "\u001b[1;31mTypeError\u001b[0m: eq1() missing 2 required positional arguments: 'y' and 'z'"
     ]
    }
   ],
   "source": [
    "x=widgets.FloatSlider(0.1)\n",
    "y=widgets.FloatSlider(0.2)\n",
    "z=widgets.FloatSlider(0.3)\n",
    "k=widgets.Button(description='submit')\n",
    "def eq1(x,y,z):\n",
    "    print(2*y.value+(8/x.value)+z.value**2)\n",
    "f=widgets.HBox([x,y,z,k])\n",
    "display(f)\n",
    "#display(x)\n",
    "#display(y)\n",
    "#display(z)\n",
    "#display(k)\n",
    "k.on_click(eq1)"
   ]
  },
  {
   "cell_type": "code",
   "execution_count": 32,
   "metadata": {},
   "outputs": [
    {
     "data": {
      "application/vnd.jupyter.widget-view+json": {
       "model_id": "c662c888b9654682a7bc4d3da277217e",
       "version_major": 2,
       "version_minor": 0
      },
      "text/plain": [
       "Text(value='hello world', description='string:')"
      ]
     },
     "metadata": {},
     "output_type": "display_data"
    }
   ],
   "source": [
    "widgets.Text(description='string:',value='hello world')"
   ]
  },
  {
   "cell_type": "code",
   "execution_count": 33,
   "metadata": {},
   "outputs": [
    {
     "data": {
      "application/vnd.jupyter.widget-view+json": {
       "model_id": "d505ec08f3254025a8e9aaaeeee5930e",
       "version_major": 2,
       "version_minor": 0
      },
      "text/plain": [
       "Text(value='hello world', description='string:')"
      ]
     },
     "metadata": {},
     "output_type": "display_data"
    }
   ],
   "source": [
    "h=widgets.Text(description='string:',value='hello world')\n",
    "display(h)"
   ]
  },
  {
   "cell_type": "code",
   "execution_count": 37,
   "metadata": {},
   "outputs": [
    {
     "data": {
      "application/vnd.jupyter.widget-view+json": {
       "model_id": "b0812fa8030348f9b876e25919448c12",
       "version_major": 2,
       "version_minor": 0
      },
      "text/plain": [
       "Text(value='', description='name')"
      ]
     },
     "metadata": {},
     "output_type": "display_data"
    },
    {
     "data": {
      "application/vnd.jupyter.widget-view+json": {
       "model_id": "d126756c86b7454db0c9fc6439da7c09",
       "version_major": 2,
       "version_minor": 0
      },
      "text/plain": [
       "Button(description='greet', style=ButtonStyle())"
      ]
     },
     "metadata": {},
     "output_type": "display_data"
    },
    {
     "ename": "TypeError",
     "evalue": "greet() takes 0 positional arguments but 1 was given",
     "output_type": "error",
     "traceback": [
      "\u001b[1;31m---------------------------------------------------------------------------\u001b[0m",
      "\u001b[1;31mTypeError\u001b[0m                                 Traceback (most recent call last)",
      "\u001b[1;31mTypeError\u001b[0m: greet() takes 0 positional arguments but 1 was given"
     ]
    }
   ],
   "source": [
    "y=widgets.Text(description='name')\n",
    "def greet():\n",
    "    print(\"hello\"+str(y.value))\n",
    "h=widgets.Button(description='greet')\n",
    "display(y)\n",
    "display(h)\n",
    "h.on_click(greet)"
   ]
  },
  {
   "cell_type": "code",
   "execution_count": 38,
   "metadata": {},
   "outputs": [
    {
     "data": {
      "application/vnd.jupyter.widget-view+json": {
       "model_id": "6d3266ea831946af8c54c445a5b08600",
       "version_major": 2,
       "version_minor": 0
      },
      "text/plain": [
       "RadioButtons(description='pizza topping', options=('pepperoni', 'pineaple', 'anchovies'), value='pepperoni')"
      ]
     },
     "metadata": {},
     "output_type": "display_data"
    }
   ],
   "source": [
    "widgets.RadioButtons(description='pizza topping',options=['pepperoni','pineaple','anchovies'])"
   ]
  },
  {
   "cell_type": "code",
   "execution_count": 45,
   "metadata": {},
   "outputs": [
    {
     "data": {
      "application/vnd.jupyter.widget-view+json": {
       "model_id": "f912f2f3191e412183322c08dc6a3f24",
       "version_major": 2,
       "version_minor": 0
      },
      "text/plain": [
       "VBox(children=(HBox(children=(FloatSlider(value=0.0), FloatSlider(value=0.0), RadioButtons(description='choose…"
      ]
     },
     "metadata": {},
     "output_type": "display_data"
    },
    {
     "name": "stdout",
     "output_type": "stream",
     "text": [
      "35.8\n",
      "-16.499999999999996\n",
      "927.3399999999999\n"
     ]
    }
   ],
   "source": [
    "g=widgets.RadioButtons(description='choose:',options=['add','sub','multiply'])\n",
    "j=widgets.Button(description='submit')\n",
    "k=widgets.FloatSlider()\n",
    "s=widgets.FloatSlider()\n",
    "d=widgets.VBox([widgets.HBox([k,s,g]),j])\n",
    "display(d)\n",
    "def eq(self):\n",
    "    if g.value==\"add\":\n",
    "        print(k.value+s.value)\n",
    "    elif g.value=='sub':\n",
    "         print(k.value-s.value)\n",
    "    elif g.value=='multiply':\n",
    "        print(k.value*s.value)\n",
    "j.on_click(eq)"
   ]
  },
  {
   "cell_type": "code",
   "execution_count": null,
   "metadata": {},
   "outputs": [],
   "source": [
    "INCOME TAX CALCULATOR"
   ]
  },
  {
   "cell_type": "code",
   "execution_count": 51,
   "metadata": {},
   "outputs": [
    {
     "data": {
      "application/vnd.jupyter.widget-view+json": {
       "model_id": "a6bad8bd350e44c6bf1d7b539cdbb8c5",
       "version_major": 2,
       "version_minor": 0
      },
      "text/plain": [
       "FloatText(value=0.0, description='income')"
      ]
     },
     "metadata": {},
     "output_type": "display_data"
    },
    {
     "data": {
      "application/vnd.jupyter.widget-view+json": {
       "model_id": "3d0cbff371984deaa33de1570a700d50",
       "version_major": 2,
       "version_minor": 0
      },
      "text/plain": [
       "Button(description='tax', style=ButtonStyle())"
      ]
     },
     "metadata": {},
     "output_type": "display_data"
    }
   ],
   "source": [
    "I=widgets.FloatText(description='income')\n",
    "def it(self):\n",
    "    i=I.value/100000\n",
    "    if i>=0 and i<=2.5:\n",
    "        z=i*0\n",
    "    elif i>2.5 and i<=5:\n",
    "        z=(i-2.5)*0.05\n",
    "    elif i>5 and i<=7.5:\n",
    "        z=(i-5)*0.1+(2.5)*0.05\n",
    "    elif i>7.5 and i<=10:\n",
    "        z=(i-7.5)*0.15+(5)*0.1+(2.5)*0.05\n",
    "    elif i>10 and i<=12.5:\n",
    "        z=(i-10)*0.2+(7.5)*0.15+(5)*0.1+(2.5)*0.05\n",
    "    elif i>12.5 and i<=15:\n",
    "        z=(i-12.5)*0.25+(10)*0.2+(7.5)*0.15+(5)*0.1+(2.5)*0.05\n",
    "    elif i>15:\n",
    "        z=(i-15)*0.3+(12.5)*0.25+(10)*0.2+(7.5)*0.15+(5)*0.1+(2.5)*0.05\n",
    "    print(\"tax amount:\"+str(z*100000))\n",
    "h=widgets.Button(description=\"tax\")\n",
    "display(I)\n",
    "display(h)\n",
    "h.on_click(it)\n",
    "\n",
    "        "
   ]
  },
  {
   "cell_type": "code",
   "execution_count": null,
   "metadata": {},
   "outputs": [],
   "source": []
  }
 ],
 "metadata": {
  "kernelspec": {
   "display_name": "Python 3",
   "language": "python",
   "name": "python3"
  },
  "language_info": {
   "codemirror_mode": {
    "name": "ipython",
    "version": 3
   },
   "file_extension": ".py",
   "mimetype": "text/x-python",
   "name": "python",
   "nbconvert_exporter": "python",
   "pygments_lexer": "ipython3",
   "version": "3.8.3"
  }
 },
 "nbformat": 4,
 "nbformat_minor": 4
}
